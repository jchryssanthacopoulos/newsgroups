{
 "cells": [
  {
   "cell_type": "markdown",
   "metadata": {},
   "source": [
    "# Topic Modeling"
   ]
  },
  {
   "cell_type": "markdown",
   "metadata": {},
   "source": [
    "## Load data"
   ]
  },
  {
   "cell_type": "code",
   "execution_count": 205,
   "metadata": {},
   "outputs": [],
   "source": [
    "import os\n",
    "import re"
   ]
  },
  {
   "cell_type": "code",
   "execution_count": 206,
   "metadata": {},
   "outputs": [],
   "source": [
    "data_dir = 'emails'"
   ]
  },
  {
   "cell_type": "code",
   "execution_count": 207,
   "metadata": {},
   "outputs": [],
   "source": [
    "messages = []\n",
    "\n",
    "for file in os.listdir(data_dir):\n",
    "    file_path = os.path.join(data_dir, file)\n",
    "    with open(file_path, encoding='latin-1') as f:\n",
    "        messages.append(f.read())"
   ]
  },
  {
   "cell_type": "code",
   "execution_count": 208,
   "metadata": {},
   "outputs": [
    {
     "data": {
      "text/plain": [
       "11313"
      ]
     },
     "execution_count": 208,
     "metadata": {},
     "output_type": "execute_result"
    }
   ],
   "source": [
    "len(messages)"
   ]
  },
  {
   "cell_type": "code",
   "execution_count": 209,
   "metadata": {},
   "outputs": [
    {
     "data": {
      "text/plain": [
       "'From: spl2@po.cwru.edu (Sam Lubchansky)\\nSubject: Re: Joe Robbie Stadium \"NOT FOR BASEBALL\"\\nArticle-I.D.: po.spl2.114.734131045\\nOrganization: Case Western Reserve University\\nLines: 27\\nNNTP-Posting-Host: b61644.student.cwru.edu\\n\\nIn article <1993Apr6.025027.4846@oswego.Oswego.EDU> iacs3650@Oswego.EDU (Kevin Mundstock) writes:\\n>From: iacs3650@Oswego.EDU (Kevin Mundstock)\\n>Subject: Joe Robbie Stadium \"NOT FOR BASEBALL\"\\n>Date: 6 Apr 93 02:50:27 GMT\\n>Did anyone notice the words \"NOT FOR BASEBALL\" printed on the picture\\n>of Joe Robbie Stadium in the Opening Day season preview section in USA\\n>Today? Any reason given for this?\\n>\\n\\nI would assume that the words (I saw the picture) indicated that those \\nSEATS will not be available for baseball games.  If you look at the picture \\nof the diamond in the stadium, in relation to the areas marked \"NOT FOR \\nBASEBALL\", those seats just look terrible for watching baseball.   Now, if \\nthey should happen to reach the post-season, I would imagine that they \\nwould consider opening some of those seats up, but that is surely a worry \\nof the future.\\n\\n \\n\\n\\nSam Lubchansky          spl2@po.cwru.edu\\n\\n\"In the champion, people see what they\\'d like to be.  In the loser,\\n they see what they actually are, and they treat him with scorn.\"\\n\\n\"Sugary condiments secure initial pleasure, but fermented grain is\\n decidedly more parsimonious of time.\" \\n'"
      ]
     },
     "execution_count": 209,
     "metadata": {},
     "output_type": "execute_result"
    }
   ],
   "source": [
    "messages[0]"
   ]
  },
  {
   "cell_type": "code",
   "execution_count": 210,
   "metadata": {},
   "outputs": [],
   "source": [
    "def strip_newsgroup_header(text):\n",
    "    _before, _blankline, after = text.partition('\\n\\n')\n",
    "    return after\n",
    "\n",
    "\n",
    "_QUOTE_RE = re.compile(r'(writes in|writes:|wrote:|says:|said:'\n",
    "                       r'|^In article|^Quoted from|^\\||^>)')\n",
    "\n",
    "\n",
    "def strip_newsgroup_quoting(text):\n",
    "    good_lines = [line for line in text.split('\\n')\n",
    "                  if not _QUOTE_RE.search(line)]\n",
    "    return '\\n'.join(good_lines)\n",
    "\n",
    "\n",
    "def strip_newsgroup_footer(text):\n",
    "    lines = text.strip().split('\\n')\n",
    "    for line_num in range(len(lines) - 1, -1, -1):\n",
    "        line = lines[line_num]\n",
    "        if line.strip().strip('-') == '':\n",
    "            break\n",
    "\n",
    "    if line_num > 0:\n",
    "        return '\\n'.join(lines[:line_num])\n",
    "    else:\n",
    "        return text"
   ]
  },
  {
   "cell_type": "code",
   "execution_count": 211,
   "metadata": {},
   "outputs": [],
   "source": [
    "def clean_email(text):\n",
    "    text = strip_newsgroup_header(text)\n",
    "    text = strip_newsgroup_quoting(text)\n",
    "    return strip_newsgroup_footer(text)"
   ]
  },
  {
   "cell_type": "code",
   "execution_count": 212,
   "metadata": {},
   "outputs": [],
   "source": [
    "cleaned_messages = [clean_email(text) for text in messages]"
   ]
  },
  {
   "cell_type": "code",
   "execution_count": 263,
   "metadata": {},
   "outputs": [],
   "source": [
    "from sklearn.feature_extraction.text import CountVectorizer\n",
    "from sklearn.decomposition import LatentDirichletAllocation\n",
    "from sklearn.pipeline import Pipeline"
   ]
  },
  {
   "cell_type": "code",
   "execution_count": 264,
   "metadata": {},
   "outputs": [],
   "source": [
    "from nltk import word_tokenize\n",
    "from nltk.stem import WordNetLemmatizer\n",
    "\n",
    "class LemmaTokenizer:\n",
    "    def __init__(self):\n",
    "        self.wnl = WordNetLemmatizer()\n",
    "    def __call__(self, doc):\n",
    "        return [self.wnl.lemmatize(t) for t in word_tokenize(doc)]"
   ]
  },
  {
   "cell_type": "code",
   "execution_count": 265,
   "metadata": {},
   "outputs": [],
   "source": [
    "num_components = 5"
   ]
  },
  {
   "cell_type": "code",
   "execution_count": 266,
   "metadata": {},
   "outputs": [],
   "source": [
    "lda_pipeline = Pipeline([\n",
    "    ('vect', CountVectorizer(stop_words='english', tokenizer=LemmaTokenizer())),\n",
    "    ('lda', LatentDirichletAllocation(n_components=num_components, random_state=0, max_iter=10))\n",
    "])"
   ]
  },
  {
   "cell_type": "code",
   "execution_count": null,
   "metadata": {},
   "outputs": [
    {
     "name": "stderr",
     "output_type": "stream",
     "text": [
      "/Users/jamesc/src/newsgroups/env/lib/python3.6/site-packages/sklearn/feature_extraction/text.py:386: UserWarning: Your stop_words may be inconsistent with your preprocessing. Tokenizing the stop words generated tokens ['ha', 'le', 'u', 'wa'] not in stop_words.\n",
      "  'stop_words.' % sorted(inconsistent))\n"
     ]
    }
   ],
   "source": [
    "lda_pipeline = lda_pipeline.fit(cleaned_messages)"
   ]
  },
  {
   "cell_type": "code",
   "execution_count": 252,
   "metadata": {},
   "outputs": [
    {
     "data": {
      "text/plain": [
       "array([[0.13028119, 0.00304363, 0.00319958, 0.00306087, 0.86041472]])"
      ]
     },
     "execution_count": 252,
     "metadata": {},
     "output_type": "execute_result"
    }
   ],
   "source": [
    "lda_pipeline.transform([cleaned_messages[0]])"
   ]
  },
  {
   "cell_type": "markdown",
   "metadata": {},
   "source": [
    "Test out on already categorized data."
   ]
  },
  {
   "cell_type": "code",
   "execution_count": 253,
   "metadata": {},
   "outputs": [],
   "source": [
    "train_dir = os.path.join('20news-bydate', '20news-bydate-train')"
   ]
  },
  {
   "cell_type": "code",
   "execution_count": 254,
   "metadata": {},
   "outputs": [],
   "source": [
    "topic_groups = [\n",
    "    ['comp.graphics', 'comp.os.ms-windows.misc', 'comp.sys.ibm.pc.hardware', 'comp.sys.mac.hardware', 'comp.windows.x'],\n",
    "    ['rec.sport.baseball', 'rec.sport.hockey'],\n",
    "    ['rec.autos', 'rec.motorcycles'],\n",
    "    ['sci.crypt', 'sci.electronics', 'sci.med', 'sci.space'],\n",
    "    ['alt.atheism', 'soc.religion.christian', 'talk.religion.misc'],\n",
    "    ['talk.politics.guns', 'talk.politics.mideast', 'talk.politics.misc']\n",
    "]"
   ]
  },
  {
   "cell_type": "code",
   "execution_count": 255,
   "metadata": {},
   "outputs": [
    {
     "name": "stdout",
     "output_type": "stream",
     "text": [
      "['comp.graphics', 'comp.os.ms-windows.misc', 'comp.sys.ibm.pc.hardware', 'comp.sys.mac.hardware', 'comp.windows.x'] [2471, 26, 15, 17, 295]\n",
      "['rec.sport.baseball', 'rec.sport.hockey'] [321, 26, 4, 2, 786]\n",
      "['rec.autos', 'rec.motorcycles'] [265, 6, 5, 1, 838]\n",
      "['sci.crypt', 'sci.electronics', 'sci.med', 'sci.space'] [595, 10, 6, 8, 1662]\n",
      "['alt.atheism', 'soc.religion.christian', 'talk.religion.misc'] [30, 9, 3, 1, 1396]\n",
      "['talk.politics.guns', 'talk.politics.mideast', 'talk.politics.misc'] [46, 7, 5, 3, 1489]\n"
     ]
    }
   ],
   "source": [
    "for topics in topic_groups:\n",
    "    pred_topics = [0] * num_components\n",
    "    \n",
    "    for topic in topics:\n",
    "        topic_dir = os.path.join(train_dir, topic)\n",
    "\n",
    "        for file in os.listdir(topic_dir):\n",
    "            file_name = os.path.join(topic_dir, file)\n",
    "\n",
    "            with open(file_name, encoding='latin-1') as f:\n",
    "                text = f.read()\n",
    "\n",
    "            topic_dist = lda_pipeline.transform([clean_email(text)])[0]\n",
    "            for idx, prob in enumerate(topic_dist):\n",
    "                if prob > 0.5:   \n",
    "                    pred_topics[idx] += 1\n",
    "    \n",
    "    print(topics, pred_topics)"
   ]
  }
 ],
 "metadata": {
  "kernelspec": {
   "display_name": "newsgroups_env",
   "language": "python",
   "name": "newsgroups_env"
  },
  "language_info": {
   "codemirror_mode": {
    "name": "ipython",
    "version": 3
   },
   "file_extension": ".py",
   "mimetype": "text/x-python",
   "name": "python",
   "nbconvert_exporter": "python",
   "pygments_lexer": "ipython3",
   "version": "3.6.8"
  }
 },
 "nbformat": 4,
 "nbformat_minor": 4
}
